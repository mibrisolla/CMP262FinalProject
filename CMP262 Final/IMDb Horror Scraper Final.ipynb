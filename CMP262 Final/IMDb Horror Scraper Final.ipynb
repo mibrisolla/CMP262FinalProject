{
 "cells": [
  {
   "cell_type": "markdown",
   "id": "d6484787",
   "metadata": {},
   "source": [
    "# IMDb Horror Movie Scraper\n",
    "# CMP-262 Maria Brisolla 05/13/2025 - Final Project"
   ]
  },
  {
   "cell_type": "markdown",
   "id": "8d25c2c0",
   "metadata": {},
   "source": [
    "# KEY QUESTIONS\n",
    "\n",
    "# Has the quality and rating of horror movies increased over the last few years?\n",
    "# Are movies in this genre getting longer?\n",
    "# Which subgenres are the most popular?\n",
    "# What are the highest rated horror films of 2020 all the way up to 2024?"
   ]
  },
  {
   "cell_type": "code",
   "execution_count": 24,
   "id": "2b4ebde6",
   "metadata": {},
   "outputs": [
    {
     "name": "stdout",
     "output_type": "stream",
     "text": [
      "Fetching from TMDb...\n",
      "Getting IMDb IDs from TMDb...\n"
     ]
    },
    {
     "name": "stderr",
     "output_type": "stream",
     "text": [
      "100%|██████████| 500/500 [01:44<00:00,  4.78it/s]\n"
     ]
    },
    {
     "name": "stdout",
     "output_type": "stream",
     "text": [
      "Fetching IMDb ratings from OMDb...\n"
     ]
    },
    {
     "name": "stderr",
     "output_type": "stream",
     "text": [
      "100%|██████████| 500/500 [02:55<00:00,  2.85it/s]"
     ]
    },
    {
     "name": "stdout",
     "output_type": "stream",
     "text": [
      "\n",
      " Done! Saved 495 movies to CSV.\n",
      "                     Title  Year  TMDb ID  TMDb Rating  \\\n",
      "301     Godzilla Minus One  2023   940721        7.600   \n",
      "427              Nosferatu  2024   426063        6.714   \n",
      "407          The Substance  2024   933260        7.146   \n",
      "103  A Quiet Place Part II  2021   520763        7.473   \n",
      "204               The Menu  2022   593643        7.170   \n",
      "5        The Invisible Man  2020   570670        7.110   \n",
      "211      Werewolf by Night  2022   894205        6.979   \n",
      "404         Alien: Romulus  2024   945961        7.203   \n",
      "311              Red Rooms  2023   912480        7.085   \n",
      "310             Talk to Me  2023  1008042        7.161   \n",
      "\n",
      "                                              Overview     IMDb ID  \\\n",
      "301  In postwar Japan, Godzilla brings new devastat...  tt23289160   \n",
      "427  A gothic tale of obsession between a haunted y...   tt5040012   \n",
      "407  A fading celebrity decides to use a black mark...  tt17526714   \n",
      "103  Following the events at home, the Abbott famil...   tt8332922   \n",
      "204  A young couple travels to a remote island to e...   tt9764362   \n",
      "5    When Cecilia's abusive ex takes his own life a...   tt1051906   \n",
      "211  On a dark and somber night, a secret cabal of ...  tt15318872   \n",
      "404  While scavenging the deep ends of a derelict s...  tt18412256   \n",
      "311  The high-profile case of serial killer Ludovic...  tt22207786   \n",
      "310  When a group of friends discover how to conjur...  tt10638522   \n",
      "\n",
      "     IMDb Rating  Runtime (min)                     Genre  \n",
      "301          7.7          124.0  Action, Adventure, Drama  \n",
      "427          7.3          132.0  Fantasy, Horror, Mystery  \n",
      "407          7.3          141.0     Drama, Horror, Sci-Fi  \n",
      "103          7.2           97.0     Drama, Horror, Sci-Fi  \n",
      "204          7.2          107.0  Comedy, Horror, Thriller  \n",
      "5            7.1          124.0    Drama, Horror, Mystery  \n",
      "211          7.1           52.0  Action, Adventure, Drama  \n",
      "404          7.1          119.0  Horror, Sci-Fi, Thriller  \n",
      "311          7.1          118.0    Crime, Horror, Mystery  \n",
      "310          7.1           95.0          Horror, Thriller  \n"
     ]
    },
    {
     "name": "stderr",
     "output_type": "stream",
     "text": [
      "\n"
     ]
    }
   ],
   "source": [
    "import requests\n",
    "import pandas as pd\n",
    "import time\n",
    "from tqdm import tqdm\n",
    "\n",
    "# API keys for TMDb and OMDb.  TMDb is used for pulliing IMDb IDs and OMDb is used for pulling ratings and titles\n",
    "TMDB_API_KEY = \"ac2ca9687cc4bcfd12644dfba459cd4c\"\n",
    "OMDB_API_KEY = \"d84b5d14\"\n",
    "\n",
    "# Horror genre ID on TMDb\n",
    "genre_id = 27\n",
    "all_movies = []\n",
    "\n",
    "print(\"Fetching from TMDb...\")\n",
    "for year in range(2020, 2025):\n",
    "    for page in range(1, 6):  # up to 5 pages per year\n",
    "        url = \"https://api.themoviedb.org/3/discover/movie\"\n",
    "        params = {\n",
    "            \"api_key\": TMDB_API_KEY,\n",
    "            \"language\": \"en-US\",\n",
    "            \"sort_by\": \"vote_average.desc\",\n",
    "            \"include_adult\": \"false\",\n",
    "            \"include_video\": \"false\",\n",
    "            \"page\": page,\n",
    "            \"primary_release_year\": year,\n",
    "            \"with_genres\": genre_id,\n",
    "            \"vote_count.gte\": 50\n",
    "        }\n",
    "\n",
    "        response = requests.get(url, params=params)\n",
    "        if response.status_code != 200:\n",
    "            print(f\"Error fetching TMDb year {year}, page {page}\")\n",
    "            break\n",
    "\n",
    "        data = response.json().get(\"results\", [])\n",
    "        if not data:\n",
    "            break\n",
    "\n",
    "        for movie in data:\n",
    "            all_movies.append({\n",
    "                \"Title\": movie.get(\"title\"),\n",
    "                \"Year\": year,\n",
    "                \"TMDb ID\": movie.get(\"id\"),\n",
    "                \"TMDb Rating\": movie.get(\"vote_average\"),\n",
    "                \"Overview\": movie.get(\"overview\")\n",
    "            })\n",
    "\n",
    "        time.sleep(0.25)\n",
    "\n",
    "df = pd.DataFrame(all_movies)\n",
    "\n",
    "# Pull IMDb IDs from TMDb\n",
    "print(\"Getting IMDb IDs from TMDb...\")\n",
    "imdb_ids = []\n",
    "for tmdb_id in tqdm(df[\"TMDb ID\"]):\n",
    "    res = requests.get(f\"https://api.themoviedb.org/3/movie/{tmdb_id}/external_ids\",\n",
    "                       params={\"api_key\": TMDB_API_KEY})\n",
    "    imdb_id = res.json().get(\"imdb_id\") if res.status_code == 200 else None\n",
    "    imdb_ids.append(imdb_id)\n",
    "    time.sleep(0.1)\n",
    "\n",
    "df[\"IMDb ID\"] = imdb_ids\n",
    "\n",
    "# Pull IMDb Ratings from OMDb\n",
    "print(\"Fetching IMDb ratings from OMDb...\")\n",
    "imdb_ratings = []\n",
    "runtimes = []\n",
    "genres = []\n",
    "\n",
    "for imdb_id in tqdm(df[\"IMDb ID\"]):\n",
    "    if not imdb_id:\n",
    "        imdb_ratings.append(None)\n",
    "        runtimes.append(None)\n",
    "        genres.append(None)\n",
    "        continue\n",
    "\n",
    "    omdb_url = \"http://www.omdbapi.com/\"\n",
    "    params = {\n",
    "        \"apikey\": OMDB_API_KEY,\n",
    "        \"i\": imdb_id\n",
    "    }\n",
    "    res = requests.get(omdb_url, params=params)\n",
    "    data = res.json()\n",
    "\n",
    "    if data.get(\"Response\") == \"True\":\n",
    "        # Handle for 'N/A' IMDb ratings\n",
    "        imdb_rating = data.get(\"imdbRating\", \"N/A\")\n",
    "        if imdb_rating != \"N/A\":\n",
    "            imdb_ratings.append(float(imdb_rating))\n",
    "        else:\n",
    "            imdb_ratings.append(None)  # Set to None if rating is 'N/A'\n",
    "\n",
    "        # Handle for runtime (potentially 'N/A')\n",
    "        runtime = data.get(\"Runtime\", \"0 min\").replace(\" min\", \"\").strip()\n",
    "        runtimes.append(int(runtime) if runtime.isdigit() else None)\n",
    "\n",
    "        # Handle for genre\n",
    "        genres.append(data.get(\"Genre\"))\n",
    "    else:\n",
    "        imdb_ratings.append(None)\n",
    "        runtimes.append(None)\n",
    "        genres.append(None)\n",
    "\n",
    "    time.sleep(0.25)\n",
    "\n",
    "# Add OMDb data to DataFrame\n",
    "df[\"IMDb Rating\"] = imdb_ratings\n",
    "df[\"Runtime (min)\"] = runtimes\n",
    "df[\"Genre\"] = genres\n",
    "\n",
    "# Clean and save\n",
    "df.dropna(subset=[\"IMDb Rating\"], inplace=True)\n",
    "df.sort_values(\"IMDb Rating\", ascending=False, inplace=True)\n",
    "\n",
    "df.to_csv(\"horror_movies_2020_2024_tmdb_omdb.csv\", index=False)\n",
    "print(f\"\\n Done! Saved {len(df)} movies to CSV.\")\n",
    "print(df.head(10))\n"
   ]
  },
  {
   "cell_type": "markdown",
   "metadata": {},
   "source": [
    "# Sort all movies by ratings that are 7.0 or above\n",
    "# Sort all by runtimes that exceed 100 minutes, or about an hour and a half"
   ]
  },
  {
   "cell_type": "code",
   "execution_count": 25,
   "id": "eddedf22",
   "metadata": {},
   "outputs": [
    {
     "name": "stderr",
     "output_type": "stream",
     "text": [
      "/var/folders/lt/zg7dk9012q9_sl448z9kdfsw0000gn/T/ipykernel_93347/501374646.py:23: FutureWarning: \n",
      "\n",
      "Passing `palette` without assigning `hue` is deprecated and will be removed in v0.14.0. Assign the `x` variable to `hue` and set `legend=False` for the same effect.\n",
      "\n",
      "  sns.barplot(x=\"Year\", y=\"% IMDb > 7.0\", data=grouped, palette=\"Blues_d\")\n"
     ]
    },
    {
     "data": {
      "image/png": "[encoded data removed]",
      "text/plain": [
       "<Figure size 1000x500 with 1 Axes>"
      ]
     },
     "metadata": {},
     "output_type": "display_data"
    },
    {
     "name": "stderr",
     "output_type": "stream",
     "text": [
      "/var/folders/lt/zg7dk9012q9_sl448z9kdfsw0000gn/T/ipykernel_93347/501374646.py:33: FutureWarning: \n",
      "\n",
      "Passing `palette` without assigning `hue` is deprecated and will be removed in v0.14.0. Assign the `x` variable to `hue` and set `legend=False` for the same effect.\n",
      "\n",
      "  sns.barplot(x=\"Year\", y=\"% Runtime > 100min\", data=grouped, palette=\"Oranges_d\")\n"
     ]
    },
    {
     "data": {
      "image/png": "[encoded data removed]",
      "text/plain": [
       "<Figure size 1000x500 with 1 Axes>"
      ]
     },
     "metadata": {},
     "output_type": "display_data"
    }
   ],
   "source": [
    "import seaborn as sns\n",
    "import matplotlib.pyplot as plt\n",
    "\n",
    "# Ensure Year column is int\n",
    "df[\"Year\"] = df[\"Year\"].astype(int)\n",
    "\n",
    "# Group by year, calculate percentages\n",
    "grouped = df.groupby(\"Year\").agg(\n",
    "    total_movies=(\"Title\", \"count\"),\n",
    "    over_7_rating=(\"IMDb Rating\", lambda x: (x > 7.0).sum()),\n",
    "    over_100_runtime=(\"Runtime (min)\", lambda x: (x > 100).sum())\n",
    ").reset_index()\n",
    "\n",
    "# Calculate percentages\n",
    "grouped[\"% IMDb > 7.0\"] = (grouped[\"over_7_rating\"] / grouped[\"total_movies\"]) * 100\n",
    "grouped[\"% Runtime > 100min\"] = (grouped[\"over_100_runtime\"] / grouped[\"total_movies\"]) * 100\n",
    "\n",
    "# Set Seaborn plot style\n",
    "sns.set(style=\"whitegrid\")\n",
    "\n",
    "# Plot 1: IMDb Rating that are greater than 7.0\n",
    "plt.figure(figsize=(10, 5))\n",
    "sns.barplot(x=\"Year\", y=\"% IMDb > 7.0\", data=grouped, palette=\"Blues_d\")\n",
    "plt.title(\"Percentage of Horror Movies with IMDb Rating > 7.0\")\n",
    "plt.ylabel(\"Percentage\")\n",
    "plt.xlabel(\"Year\")\n",
    "plt.ylim(0, 100)\n",
    "plt.tight_layout()\n",
    "plt.show()\n",
    "\n",
    "# Plot 2: Runtimes that exceed 100 min\n",
    "plt.figure(figsize=(10, 5))\n",
    "sns.barplot(x=\"Year\", y=\"% Runtime > 100min\", data=grouped, palette=\"Oranges_d\")\n",
    "plt.title(\"Percentage of Horror Movies with Runtime > 100 Minutes\")\n",
    "plt.ylabel(\"Percentage\")\n",
    "plt.xlabel(\"Year\")\n",
    "plt.ylim(0, 100)\n",
    "plt.tight_layout()\n",
    "plt.show()\n"
   ]
  },
  {
   "cell_type": "markdown",
   "id": "8c55e416",
   "metadata": {},
   "source": [
    "# Filter highest rated movies by subgenre in the horror genre"
   ]
  },
  {
   "cell_type": "code",
   "execution_count": 26,
   "id": "bcc12634",
   "metadata": {},
   "outputs": [
    {
     "name": "stderr",
     "output_type": "stream",
     "text": [
      "/var/folders/lt/zg7dk9012q9_sl448z9kdfsw0000gn/T/ipykernel_93347/2436433499.py:17: FutureWarning: \n",
      "\n",
      "Passing `palette` without assigning `hue` is deprecated and will be removed in v0.14.0. Assign the `y` variable to `hue` and set `legend=False` for the same effect.\n",
      "\n",
      "  sns.barplot(data=genre_counts.head(10), x=\"Count\", y=\"Genre\", palette=\"Purples_d\")\n"
     ]
    },
    {
     "data": {
      "image/png": "[encoded data removed]",
      "text/plain": [
       "<Figure size 1000x600 with 1 Axes>"
      ]
     },
     "metadata": {},
     "output_type": "display_data"
    }
   ],
   "source": [
    "# Filter movies with IMDb rating > 7.0\n",
    "high_rated = df[df[\"IMDb Rating\"] > 7.0].copy()\n",
    "\n",
    "# Split genres into lists\n",
    "high_rated[\"Genre List\"] = high_rated[\"Genre\"].str.split(\", \")\n",
    "exploded_genres = high_rated.explode(\"Genre List\")\n",
    "\n",
    "# Remove \"Horror\" from sub-genre list\n",
    "exploded_genres = exploded_genres[exploded_genres[\"Genre List\"].str.lower() != \"horror\"]\n",
    "\n",
    "# Count genre frequencies\n",
    "genre_counts = exploded_genres[\"Genre List\"].value_counts().reset_index()\n",
    "genre_counts.columns = [\"Genre\", \"Count\"]\n",
    "\n",
    "# Plot\n",
    "plt.figure(figsize=(10, 6))\n",
    "sns.barplot(data=genre_counts.head(10), x=\"Count\", y=\"Genre\", palette=\"Purples_d\")\n",
    "plt.title(\"Top Sub-Genres in Horror Movies with IMDb Rating > 7.0 (2020–2024)\")\n",
    "plt.xlabel(\"Number of Movies\")\n",
    "plt.ylabel(\"Genre\")\n",
    "plt.tight_layout()\n",
    "plt.show()\n"
   ]
  },
  {
   "cell_type": "markdown",
   "id": "aff377bc",
   "metadata": {},
   "source": [
    "# Sort out the highest rated movies in the horror genre from 2020-2024"
   ]
  },
  {
   "cell_type": "code",
   "execution_count": 27,
   "id": "b496a7da",
   "metadata": {},
   "outputs": [
    {
     "name": "stdout",
     "output_type": "stream",
     "text": [
      "Top 10 Highest-Rated Horror Movies (2020–2024):\n",
      "                     Title  Year  IMDb Rating  Runtime (min)  \\\n",
      "301     Godzilla Minus One  2023          7.7          124.0   \n",
      "407          The Substance  2024          7.3          141.0   \n",
      "427              Nosferatu  2024          7.3          132.0   \n",
      "103  A Quiet Place Part II  2021          7.2           97.0   \n",
      "204               The Menu  2022          7.2          107.0   \n",
      "5        The Invisible Man  2020          7.1          124.0   \n",
      "211      Werewolf by Night  2022          7.1           52.0   \n",
      "404         Alien: Romulus  2024          7.1          119.0   \n",
      "311              Red Rooms  2023          7.1          118.0   \n",
      "310             Talk to Me  2023          7.1           95.0   \n",
      "\n",
      "                        Genre  \n",
      "301  Action, Adventure, Drama  \n",
      "407     Drama, Horror, Sci-Fi  \n",
      "427  Fantasy, Horror, Mystery  \n",
      "103     Drama, Horror, Sci-Fi  \n",
      "204  Comedy, Horror, Thriller  \n",
      "5      Drama, Horror, Mystery  \n",
      "211  Action, Adventure, Drama  \n",
      "404  Horror, Sci-Fi, Thriller  \n",
      "311    Crime, Horror, Mystery  \n",
      "310          Horror, Thriller  \n"
     ]
    }
   ],
   "source": [
    "# Sort by IMDb Rating\n",
    "top10 = df.sort_values(\"IMDb Rating\", ascending=False).head(10)\n",
    "\n",
    "# Display as table\n",
    "print(\"Top 10 Highest-Rated Horror Movies (2020–2024):\")\n",
    "print(top10[[\"Title\", \"Year\", \"IMDb Rating\", \"Runtime (min)\", \"Genre\"]])"
   ]
  },
  {
   "cell_type": "markdown",
   "id": "9a86bf1f",
   "metadata": {},
   "source": [
    "# QUESTION 1\n",
    "\n",
    "Yes, the quality/ratings of horror movies have gone up in the past few years, with a very steady percentage increase.  2020 had the least amount over 7.0, which is likely due to the circumstances of the ongoing Covid-19 pandemic at the time."
   ]
  },
  {
   "cell_type": "markdown",
   "id": "13c51ea0",
   "metadata": {},
   "source": [
    "# QUESTION 2\n",
    "From 2020 to 2021, there was a significant increase in runtime by nearly 20%, which only got a slight higher in 2022.  It dips below 40% in 2023 and dips back just above it in 2024.  In general, 2024 horror movies on average are longer than 2020 horror movies."
   ]
  },
  {
   "cell_type": "markdown",
   "id": "5e109acf",
   "metadata": {},
   "source": [
    "# QUESTION 3\n",
    "Drama, Thriller, and Mystery are the most popular subgenres among the highest rated horror films."
   ]
  },
  {
   "cell_type": "markdown",
   "id": "496b687a",
   "metadata": {},
   "source": [
    "# QUESTION 4\n",
    "The top ten highest ranking movies for 2020-2024 are: Godzilla Minus One, The Substance, Nosferatu, A Quiet Place Part 2, The Menu, The Invisible Man, Werewolf by Night, Alien: Romulus, Red Rooms, and Talk to Me.  Seven of these ten films well exceed a runtime of 100 minutes, with The Substance being notibly well over 2 hours long.  This points back to question 2, which highlighted a slight trend in horror films becoming much longer."
   ]
  }
 ],
 "metadata": {
  "kernelspec": {
   "display_name": ".venv",
   "language": "python",
   "name": "python3"
  },
  "language_info": {
   "codemirror_mode": {
    "name": "ipython",
    "version": 3
   },
   "file_extension": ".py",
   "mimetype": "text/x-python",
   "name": "python",
   "nbconvert_exporter": "python",
   "pygments_lexer": "ipython3",
   "version": "3.12.2"
  }
 },
 "nbformat": 4,
 "nbformat_minor": 5
}
